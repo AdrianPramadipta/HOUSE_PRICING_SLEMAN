{
 "cells": [
  {
   "cell_type": "markdown",
   "id": "855a177d",
   "metadata": {},
   "source": [
    "Import library yang dibutuhkan"
   ]
  },
  {
   "cell_type": "code",
   "execution_count": 3,
   "id": "a01fe6cb",
   "metadata": {},
   "outputs": [],
   "source": [
    "import pandas as pd\n",
    "import re\n",
    "import numpy as np"
   ]
  },
  {
   "cell_type": "markdown",
   "id": "5a1b0141",
   "metadata": {},
   "source": [
    "Import dan mengecek data"
   ]
  },
  {
   "cell_type": "code",
   "execution_count": 4,
   "id": "17584eca",
   "metadata": {},
   "outputs": [],
   "source": [
    "df = pd.read_csv(\"data//yogya_hp.csv\")"
   ]
  },
  {
   "cell_type": "code",
   "execution_count": 5,
   "id": "9c5d48b9",
   "metadata": {},
   "outputs": [
    {
     "name": "stdout",
     "output_type": "stream",
     "text": [
      "<class 'pandas.core.frame.DataFrame'>\n",
      "RangeIndex: 2020 entries, 0 to 2019\n",
      "Data columns (total 9 columns):\n",
      " #   Column            Non-Null Count  Dtype  \n",
      "---  ------            --------------  -----  \n",
      " 0   price             2020 non-null   object \n",
      " 1   nav-link          2020 non-null   object \n",
      " 2   description       2020 non-null   object \n",
      " 3   listing-location  2020 non-null   object \n",
      " 4   bed               2001 non-null   float64\n",
      " 5   bath              1999 non-null   float64\n",
      " 6   carport           1713 non-null   float64\n",
      " 7   surface_area      2019 non-null   object \n",
      " 8   building_area     2019 non-null   object \n",
      "dtypes: float64(3), object(6)\n",
      "memory usage: 142.2+ KB\n"
     ]
    }
   ],
   "source": [
    "df.info()"
   ]
  },
  {
   "cell_type": "code",
   "execution_count": 6,
   "id": "ed1eced1",
   "metadata": {},
   "outputs": [
    {
     "data": {
      "text/html": [
       "<div>\n",
       "<style scoped>\n",
       "    .dataframe tbody tr th:only-of-type {\n",
       "        vertical-align: middle;\n",
       "    }\n",
       "\n",
       "    .dataframe tbody tr th {\n",
       "        vertical-align: top;\n",
       "    }\n",
       "\n",
       "    .dataframe thead th {\n",
       "        text-align: right;\n",
       "    }\n",
       "</style>\n",
       "<table border=\"1\" class=\"dataframe\">\n",
       "  <thead>\n",
       "    <tr style=\"text-align: right;\">\n",
       "      <th></th>\n",
       "      <th>price</th>\n",
       "      <th>nav-link</th>\n",
       "      <th>description</th>\n",
       "      <th>listing-location</th>\n",
       "      <th>bed</th>\n",
       "      <th>bath</th>\n",
       "      <th>carport</th>\n",
       "      <th>surface_area</th>\n",
       "      <th>building_area</th>\n",
       "    </tr>\n",
       "  </thead>\n",
       "  <tbody>\n",
       "    <tr>\n",
       "      <th>0</th>\n",
       "      <td>Rp 1,79 Miliar</td>\n",
       "      <td>https://www.rumah123.com/properti/sleman/hos17...</td>\n",
       "      <td>Rumah 2 Lantai Baru  di jalan Palagan Sleman Y...</td>\n",
       "      <td>Ngaglik, Sleman</td>\n",
       "      <td>3.0</td>\n",
       "      <td>3.0</td>\n",
       "      <td>2.0</td>\n",
       "      <td>120 m²</td>\n",
       "      <td>110 m²</td>\n",
       "    </tr>\n",
       "    <tr>\n",
       "      <th>1</th>\n",
       "      <td>Rp 170 Juta</td>\n",
       "      <td>https://www.rumah123.com/properti/sleman/hos17...</td>\n",
       "      <td>RUMAH BARU DEKAT AL AZHAR DAN UGM</td>\n",
       "      <td>Jombor, Sleman</td>\n",
       "      <td>3.0</td>\n",
       "      <td>2.0</td>\n",
       "      <td>1.0</td>\n",
       "      <td>102 m²</td>\n",
       "      <td>126 m²</td>\n",
       "    </tr>\n",
       "    <tr>\n",
       "      <th>2</th>\n",
       "      <td>Rp 695 Juta</td>\n",
       "      <td>https://www.rumah123.com/properti/sleman/hos17...</td>\n",
       "      <td>RUMAH ASRI DAN SEJUK DI BERBAH SLEMAN DEKAT PA...</td>\n",
       "      <td>Berbah, Sleman</td>\n",
       "      <td>2.0</td>\n",
       "      <td>2.0</td>\n",
       "      <td>1.0</td>\n",
       "      <td>100 m²</td>\n",
       "      <td>100 m²</td>\n",
       "    </tr>\n",
       "    <tr>\n",
       "      <th>3</th>\n",
       "      <td>Rp 560 Juta</td>\n",
       "      <td>https://www.rumah123.com/properti/sleman/hos17...</td>\n",
       "      <td>Rumah Murah 5 Menit Dari Candi Prambanan Tersi...</td>\n",
       "      <td>Prambanan, Sleman</td>\n",
       "      <td>3.0</td>\n",
       "      <td>1.0</td>\n",
       "      <td>1.0</td>\n",
       "      <td>109 m²</td>\n",
       "      <td>67 m²</td>\n",
       "    </tr>\n",
       "    <tr>\n",
       "      <th>4</th>\n",
       "      <td>Rp 200 Juta</td>\n",
       "      <td>https://www.rumah123.com/properti/sleman/hos17...</td>\n",
       "      <td>Rumah Murah Cicilan 1jt Di Moyudan Sleman</td>\n",
       "      <td>Moyudan, Sleman</td>\n",
       "      <td>2.0</td>\n",
       "      <td>1.0</td>\n",
       "      <td>1.0</td>\n",
       "      <td>60 m²</td>\n",
       "      <td>30 m²</td>\n",
       "    </tr>\n",
       "  </tbody>\n",
       "</table>\n",
       "</div>"
      ],
      "text/plain": [
       "            price                                           nav-link  \\\n",
       "0  Rp 1,79 Miliar  https://www.rumah123.com/properti/sleman/hos17...   \n",
       "1     Rp 170 Juta  https://www.rumah123.com/properti/sleman/hos17...   \n",
       "2     Rp 695 Juta  https://www.rumah123.com/properti/sleman/hos17...   \n",
       "3     Rp 560 Juta  https://www.rumah123.com/properti/sleman/hos17...   \n",
       "4     Rp 200 Juta  https://www.rumah123.com/properti/sleman/hos17...   \n",
       "\n",
       "                                         description   listing-location  bed  \\\n",
       "0  Rumah 2 Lantai Baru  di jalan Palagan Sleman Y...    Ngaglik, Sleman  3.0   \n",
       "1                  RUMAH BARU DEKAT AL AZHAR DAN UGM     Jombor, Sleman  3.0   \n",
       "2  RUMAH ASRI DAN SEJUK DI BERBAH SLEMAN DEKAT PA...     Berbah, Sleman  2.0   \n",
       "3  Rumah Murah 5 Menit Dari Candi Prambanan Tersi...  Prambanan, Sleman  3.0   \n",
       "4          Rumah Murah Cicilan 1jt Di Moyudan Sleman    Moyudan, Sleman  2.0   \n",
       "\n",
       "   bath  carport surface_area building_area  \n",
       "0   3.0      2.0       120 m²        110 m²  \n",
       "1   2.0      1.0       102 m²        126 m²  \n",
       "2   2.0      1.0       100 m²        100 m²  \n",
       "3   1.0      1.0       109 m²         67 m²  \n",
       "4   1.0      1.0        60 m²         30 m²  "
      ]
     },
     "execution_count": 6,
     "metadata": {},
     "output_type": "execute_result"
    }
   ],
   "source": [
    "df.head()"
   ]
  },
  {
   "cell_type": "markdown",
   "id": "802d25a0",
   "metadata": {},
   "source": [
    "Dari sini parameter yang ingin kita gunakan adalah harga sebagai parameter target (Y) dan lokasi, jumlah kamar tidur(bed), kamar mandi (bath), jumlah parkir mobil (carport), luas tanah (surface_area), dan luas bangunan (building_area)"
   ]
  },
  {
   "cell_type": "markdown",
   "id": "f79dc198",
   "metadata": {},
   "source": [
    "Cleaning Data"
   ]
  },
  {
   "cell_type": "code",
   "execution_count": 7,
   "id": "93db6db6",
   "metadata": {},
   "outputs": [],
   "source": [
    "#Function untuk cleaning data\n",
    "def clean_property_data(df):\n",
    "    df_cleaned = df.copy()\n",
    "    # Cleaning data price\n",
    "    def clean_price(price_str):\n",
    "        if pd.isna(price_str):\n",
    "            return None\n",
    "            \n",
    "        # Menghapus Rp dan spasi\n",
    "        price_str = str(price_str).replace('Rp', '').strip()\n",
    "        \n",
    "        # mengganti koma menjadi titik agar dimengerti program\n",
    "        price_str = price_str.replace(',', '.')\n",
    "        \n",
    "        # Handle Miliar \n",
    "        if 'Miliar' in price_str:\n",
    "            number = float(re.findall(r'[\\d.]+', price_str)[0])\n",
    "            return int(number * 1_000_000_000)\n",
    "        \n",
    "        # Handle Juta   \n",
    "        elif 'Juta' in price_str:\n",
    "            number = float(re.findall(r'[\\d.]+', price_str)[0])\n",
    "            return int(number * 1_000_000)\n",
    "        \n",
    "        # Handle plain numbers\n",
    "        else:\n",
    "            try:\n",
    "                return int(float(price_str))\n",
    "            except ValueError:\n",
    "                return None\n",
    "    \n",
    "        \n",
    "\n",
    "    # menghapus m^2\n",
    "    def clean_area(area_str):\n",
    "        if pd.isna(area_str):\n",
    "            return None\n",
    "        area_str = str(area_str).replace('m²', '').strip()\n",
    "        try:\n",
    "            return int(float(area_str))\n",
    "        except ValueError:\n",
    "            return None\n",
    "    #Kita hanya mengambil data di sleman\n",
    "    df_cleaned = df[df['listing-location'].str.contains(r', Sleman', na=False)]\n",
    "    #apply function\n",
    "    df_cleaned['price'] = df_cleaned['price'].apply(clean_price)\n",
    "    df_cleaned['surface_area'] = df_cleaned['surface_area'].apply(clean_area)\n",
    "    df_cleaned['building_area'] = df_cleaned['building_area'].apply(clean_area)\n",
    "    df_cleaned = df_cleaned.dropna()\n",
    "    df_cleaned =df_cleaned.drop_duplicates()\n",
    "    return df_cleaned"
   ]
  },
  {
   "cell_type": "code",
   "execution_count": 8,
   "id": "2fafe0dc",
   "metadata": {},
   "outputs": [],
   "source": [
    "df.drop([\"nav-link\",\"description\"], axis = 1, inplace=True) #menghapus tabel yang tidak dibutuhkan"
   ]
  },
  {
   "cell_type": "code",
   "execution_count": 9,
   "id": "ecb5b1b1",
   "metadata": {},
   "outputs": [
    {
     "name": "stdout",
     "output_type": "stream",
     "text": [
      "<class 'pandas.core.frame.DataFrame'>\n",
      "RangeIndex: 2020 entries, 0 to 2019\n",
      "Data columns (total 7 columns):\n",
      " #   Column            Non-Null Count  Dtype  \n",
      "---  ------            --------------  -----  \n",
      " 0   price             2020 non-null   object \n",
      " 1   listing-location  2020 non-null   object \n",
      " 2   bed               2001 non-null   float64\n",
      " 3   bath              1999 non-null   float64\n",
      " 4   carport           1713 non-null   float64\n",
      " 5   surface_area      2019 non-null   object \n",
      " 6   building_area     2019 non-null   object \n",
      "dtypes: float64(3), object(4)\n",
      "memory usage: 110.6+ KB\n"
     ]
    }
   ],
   "source": [
    "df.info()"
   ]
  },
  {
   "cell_type": "code",
   "execution_count": 10,
   "id": "ef362faa",
   "metadata": {},
   "outputs": [
    {
     "name": "stderr",
     "output_type": "stream",
     "text": [
      "C:\\Users\\adria\\AppData\\Local\\Temp\\ipykernel_1948\\766707705.py:46: SettingWithCopyWarning: \n",
      "A value is trying to be set on a copy of a slice from a DataFrame.\n",
      "Try using .loc[row_indexer,col_indexer] = value instead\n",
      "\n",
      "See the caveats in the documentation: https://pandas.pydata.org/pandas-docs/stable/user_guide/indexing.html#returning-a-view-versus-a-copy\n",
      "  df_cleaned['price'] = df_cleaned['price'].apply(clean_price)\n",
      "C:\\Users\\adria\\AppData\\Local\\Temp\\ipykernel_1948\\766707705.py:47: SettingWithCopyWarning: \n",
      "A value is trying to be set on a copy of a slice from a DataFrame.\n",
      "Try using .loc[row_indexer,col_indexer] = value instead\n",
      "\n",
      "See the caveats in the documentation: https://pandas.pydata.org/pandas-docs/stable/user_guide/indexing.html#returning-a-view-versus-a-copy\n",
      "  df_cleaned['surface_area'] = df_cleaned['surface_area'].apply(clean_area)\n",
      "C:\\Users\\adria\\AppData\\Local\\Temp\\ipykernel_1948\\766707705.py:48: SettingWithCopyWarning: \n",
      "A value is trying to be set on a copy of a slice from a DataFrame.\n",
      "Try using .loc[row_indexer,col_indexer] = value instead\n",
      "\n",
      "See the caveats in the documentation: https://pandas.pydata.org/pandas-docs/stable/user_guide/indexing.html#returning-a-view-versus-a-copy\n",
      "  df_cleaned['building_area'] = df_cleaned['building_area'].apply(clean_area)\n"
     ]
    }
   ],
   "source": [
    "df = clean_property_data(df) #cleaning data"
   ]
  },
  {
   "cell_type": "code",
   "execution_count": 11,
   "id": "b740fbff",
   "metadata": {},
   "outputs": [
    {
     "data": {
      "text/html": [
       "<div>\n",
       "<style scoped>\n",
       "    .dataframe tbody tr th:only-of-type {\n",
       "        vertical-align: middle;\n",
       "    }\n",
       "\n",
       "    .dataframe tbody tr th {\n",
       "        vertical-align: top;\n",
       "    }\n",
       "\n",
       "    .dataframe thead th {\n",
       "        text-align: right;\n",
       "    }\n",
       "</style>\n",
       "<table border=\"1\" class=\"dataframe\">\n",
       "  <thead>\n",
       "    <tr style=\"text-align: right;\">\n",
       "      <th></th>\n",
       "      <th>price</th>\n",
       "      <th>listing-location</th>\n",
       "      <th>bed</th>\n",
       "      <th>bath</th>\n",
       "      <th>carport</th>\n",
       "      <th>surface_area</th>\n",
       "      <th>building_area</th>\n",
       "    </tr>\n",
       "  </thead>\n",
       "  <tbody>\n",
       "    <tr>\n",
       "      <th>0</th>\n",
       "      <td>1790000000</td>\n",
       "      <td>Ngaglik, Sleman</td>\n",
       "      <td>3.0</td>\n",
       "      <td>3.0</td>\n",
       "      <td>2.0</td>\n",
       "      <td>120.0</td>\n",
       "      <td>110.0</td>\n",
       "    </tr>\n",
       "    <tr>\n",
       "      <th>1</th>\n",
       "      <td>170000000</td>\n",
       "      <td>Jombor, Sleman</td>\n",
       "      <td>3.0</td>\n",
       "      <td>2.0</td>\n",
       "      <td>1.0</td>\n",
       "      <td>102.0</td>\n",
       "      <td>126.0</td>\n",
       "    </tr>\n",
       "    <tr>\n",
       "      <th>2</th>\n",
       "      <td>695000000</td>\n",
       "      <td>Berbah, Sleman</td>\n",
       "      <td>2.0</td>\n",
       "      <td>2.0</td>\n",
       "      <td>1.0</td>\n",
       "      <td>100.0</td>\n",
       "      <td>100.0</td>\n",
       "    </tr>\n",
       "    <tr>\n",
       "      <th>3</th>\n",
       "      <td>560000000</td>\n",
       "      <td>Prambanan, Sleman</td>\n",
       "      <td>3.0</td>\n",
       "      <td>1.0</td>\n",
       "      <td>1.0</td>\n",
       "      <td>109.0</td>\n",
       "      <td>67.0</td>\n",
       "    </tr>\n",
       "    <tr>\n",
       "      <th>4</th>\n",
       "      <td>200000000</td>\n",
       "      <td>Moyudan, Sleman</td>\n",
       "      <td>2.0</td>\n",
       "      <td>1.0</td>\n",
       "      <td>1.0</td>\n",
       "      <td>60.0</td>\n",
       "      <td>30.0</td>\n",
       "    </tr>\n",
       "  </tbody>\n",
       "</table>\n",
       "</div>"
      ],
      "text/plain": [
       "        price   listing-location  bed  bath  carport  surface_area  \\\n",
       "0  1790000000    Ngaglik, Sleman  3.0   3.0      2.0         120.0   \n",
       "1   170000000     Jombor, Sleman  3.0   2.0      1.0         102.0   \n",
       "2   695000000     Berbah, Sleman  2.0   2.0      1.0         100.0   \n",
       "3   560000000  Prambanan, Sleman  3.0   1.0      1.0         109.0   \n",
       "4   200000000    Moyudan, Sleman  2.0   1.0      1.0          60.0   \n",
       "\n",
       "   building_area  \n",
       "0          110.0  \n",
       "1          126.0  \n",
       "2          100.0  \n",
       "3           67.0  \n",
       "4           30.0  "
      ]
     },
     "execution_count": 11,
     "metadata": {},
     "output_type": "execute_result"
    }
   ],
   "source": [
    "df.head()"
   ]
  },
  {
   "cell_type": "code",
   "execution_count": 12,
   "id": "9d053637",
   "metadata": {},
   "outputs": [
    {
     "name": "stdout",
     "output_type": "stream",
     "text": [
      "<class 'pandas.core.frame.DataFrame'>\n",
      "Index: 859 entries, 0 to 2017\n",
      "Data columns (total 7 columns):\n",
      " #   Column            Non-Null Count  Dtype  \n",
      "---  ------            --------------  -----  \n",
      " 0   price             859 non-null    int64  \n",
      " 1   listing-location  859 non-null    object \n",
      " 2   bed               859 non-null    float64\n",
      " 3   bath              859 non-null    float64\n",
      " 4   carport           859 non-null    float64\n",
      " 5   surface_area      859 non-null    float64\n",
      " 6   building_area     859 non-null    float64\n",
      "dtypes: float64(5), int64(1), object(1)\n",
      "memory usage: 53.7+ KB\n"
     ]
    }
   ],
   "source": [
    "df.info()"
   ]
  },
  {
   "cell_type": "code",
   "execution_count": 13,
   "id": "5278967e",
   "metadata": {},
   "outputs": [
    {
     "data": {
      "text/plain": [
       "listing-location\n",
       "Ngaglik, Sleman              216\n",
       "Depok, Sleman                127\n",
       "Mlati, Sleman                 82\n",
       "Kalasan, Sleman               72\n",
       "Gamping, Sleman               66\n",
       "Sleman, Sleman                62\n",
       "Ngemplak, Sleman              61\n",
       "Godean, Sleman                29\n",
       "Condong Catur, Sleman         26\n",
       "Purwomartani   , Sleman       25\n",
       "Berbah, Sleman                19\n",
       "Kaliurang, Sleman             16\n",
       "Prambanan, Sleman             15\n",
       "Sayegan, Sleman               10\n",
       "Caturtunggal, Sleman           8\n",
       "Pakem, Sleman                  8\n",
       "Cebongan, Sleman               5\n",
       "Moyudan, Sleman                3\n",
       "Tempel, Sleman                 3\n",
       "Turi, Sleman                   3\n",
       "Jombor, Sleman                 2\n",
       "Sidoarum         , Sleman      1\n",
       "Name: count, dtype: int64"
      ]
     },
     "execution_count": 13,
     "metadata": {},
     "output_type": "execute_result"
    }
   ],
   "source": [
    "df['listing-location'].value_counts()"
   ]
  },
  {
   "cell_type": "markdown",
   "id": "a7751742",
   "metadata": {},
   "source": [
    "Karena semua data sudah hanya di sleman, kita bisa menghapus Sleman"
   ]
  },
  {
   "cell_type": "code",
   "execution_count": 14,
   "id": "511c4ebd",
   "metadata": {},
   "outputs": [],
   "source": [
    "df['listing-location'] = df['listing-location'].str.replace('Sleman', '', regex=False) \\\n",
    "                                               .str.replace(',', '', regex=False) \\\n",
    "                                               .str.replace(' ', '', regex=False)\n"
   ]
  },
  {
   "cell_type": "code",
   "execution_count": 15,
   "id": "e77e2dec",
   "metadata": {},
   "outputs": [
    {
     "data": {
      "text/plain": [
       "listing-location\n",
       "Ngaglik         216\n",
       "Depok           127\n",
       "Mlati            82\n",
       "Kalasan          72\n",
       "Gamping          66\n",
       "                 62\n",
       "Ngemplak         61\n",
       "Godean           29\n",
       "CondongCatur     26\n",
       "Purwomartani     25\n",
       "Berbah           19\n",
       "Kaliurang        16\n",
       "Prambanan        15\n",
       "Sayegan          10\n",
       "Caturtunggal      8\n",
       "Pakem             8\n",
       "Cebongan          5\n",
       "Moyudan           3\n",
       "Tempel            3\n",
       "Turi              3\n",
       "Jombor            2\n",
       "Sidoarum          1\n",
       "Name: count, dtype: int64"
      ]
     },
     "execution_count": 15,
     "metadata": {},
     "output_type": "execute_result"
    }
   ],
   "source": [
    "df['listing-location'].value_counts()"
   ]
  },
  {
   "cell_type": "markdown",
   "id": "ac4d330f",
   "metadata": {},
   "source": [
    "Ini menyebabkan Sleman(kecamatan), Sleman(Kabupaten) meenjadi no string, mari kita ganti kembali"
   ]
  },
  {
   "cell_type": "code",
   "execution_count": 16,
   "id": "4ddb2171",
   "metadata": {},
   "outputs": [],
   "source": [
    "df['listing-location'] = df['listing-location'].replace('', 'Sleman')"
   ]
  },
  {
   "cell_type": "code",
   "execution_count": 17,
   "id": "8d7f3aad",
   "metadata": {},
   "outputs": [
    {
     "data": {
      "text/plain": [
       "listing-location\n",
       "Ngaglik         216\n",
       "Depok           127\n",
       "Mlati            82\n",
       "Kalasan          72\n",
       "Gamping          66\n",
       "Sleman           62\n",
       "Ngemplak         61\n",
       "Godean           29\n",
       "CondongCatur     26\n",
       "Purwomartani     25\n",
       "Berbah           19\n",
       "Kaliurang        16\n",
       "Prambanan        15\n",
       "Sayegan          10\n",
       "Caturtunggal      8\n",
       "Pakem             8\n",
       "Cebongan          5\n",
       "Moyudan           3\n",
       "Tempel            3\n",
       "Turi              3\n",
       "Jombor            2\n",
       "Sidoarum          1\n",
       "Name: count, dtype: int64"
      ]
     },
     "execution_count": 17,
     "metadata": {},
     "output_type": "execute_result"
    }
   ],
   "source": [
    "df['listing-location'].value_counts()"
   ]
  },
  {
   "cell_type": "code",
   "execution_count": 18,
   "id": "c4b49b2e",
   "metadata": {},
   "outputs": [
    {
     "data": {
      "text/html": [
       "<div>\n",
       "<style scoped>\n",
       "    .dataframe tbody tr th:only-of-type {\n",
       "        vertical-align: middle;\n",
       "    }\n",
       "\n",
       "    .dataframe tbody tr th {\n",
       "        vertical-align: top;\n",
       "    }\n",
       "\n",
       "    .dataframe thead th {\n",
       "        text-align: right;\n",
       "    }\n",
       "</style>\n",
       "<table border=\"1\" class=\"dataframe\">\n",
       "  <thead>\n",
       "    <tr style=\"text-align: right;\">\n",
       "      <th></th>\n",
       "      <th>price</th>\n",
       "      <th>bed</th>\n",
       "      <th>bath</th>\n",
       "      <th>carport</th>\n",
       "      <th>surface_area</th>\n",
       "      <th>building_area</th>\n",
       "    </tr>\n",
       "  </thead>\n",
       "  <tbody>\n",
       "    <tr>\n",
       "      <th>min</th>\n",
       "      <td>1.550000e+08</td>\n",
       "      <td>1.00000</td>\n",
       "      <td>1.000000</td>\n",
       "      <td>1.000000</td>\n",
       "      <td>36.000000</td>\n",
       "      <td>4.000000e+00</td>\n",
       "    </tr>\n",
       "    <tr>\n",
       "      <th>max</th>\n",
       "      <td>2.500000e+10</td>\n",
       "      <td>40.00000</td>\n",
       "      <td>42.000000</td>\n",
       "      <td>15.000000</td>\n",
       "      <td>4222.000000</td>\n",
       "      <td>2.408150e+09</td>\n",
       "    </tr>\n",
       "    <tr>\n",
       "      <th>mean</th>\n",
       "      <td>1.805024e+09</td>\n",
       "      <td>4.19092</td>\n",
       "      <td>3.323632</td>\n",
       "      <td>1.621653</td>\n",
       "      <td>187.905704</td>\n",
       "      <td>2.803590e+06</td>\n",
       "    </tr>\n",
       "  </tbody>\n",
       "</table>\n",
       "</div>"
      ],
      "text/plain": [
       "             price       bed       bath    carport  surface_area  \\\n",
       "min   1.550000e+08   1.00000   1.000000   1.000000     36.000000   \n",
       "max   2.500000e+10  40.00000  42.000000  15.000000   4222.000000   \n",
       "mean  1.805024e+09   4.19092   3.323632   1.621653    187.905704   \n",
       "\n",
       "      building_area  \n",
       "min    4.000000e+00  \n",
       "max    2.408150e+09  \n",
       "mean   2.803590e+06  "
      ]
     },
     "execution_count": 18,
     "metadata": {},
     "output_type": "execute_result"
    }
   ],
   "source": [
    "df.drop(columns='listing-location').agg(['min', 'max', 'mean'])"
   ]
  },
  {
   "cell_type": "markdown",
   "id": "1b0afa26",
   "metadata": {},
   "source": [
    "Nampaknya ada outlier mari kita coba remove"
   ]
  },
  {
   "cell_type": "code",
   "execution_count": 19,
   "id": "0cbe269a",
   "metadata": {},
   "outputs": [],
   "source": [
    "cols_to_check = ['bed','bath','price','surface_area', 'building_area']\n",
    "def remove_outliers_iqr(df, columns):\n",
    "    for col in columns:\n",
    "        Q1 = df[col].quantile(0.25)\n",
    "        Q3 = df[col].quantile(0.75)\n",
    "        IQR = Q3 - Q1\n",
    "        lower = Q1 - 1.5 * IQR\n",
    "        upper = Q3 + 1.5 * IQR\n",
    "\n",
    "        # Filter the DataFrame\n",
    "        df = df[(df[col] >= lower) & (df[col] <= upper)]\n",
    "    return df\n",
    "\n",
    "df = remove_outliers_iqr(df, cols_to_check)"
   ]
  },
  {
   "cell_type": "code",
   "execution_count": 20,
   "id": "34eba373",
   "metadata": {},
   "outputs": [
    {
     "data": {
      "text/html": [
       "<div>\n",
       "<style scoped>\n",
       "    .dataframe tbody tr th:only-of-type {\n",
       "        vertical-align: middle;\n",
       "    }\n",
       "\n",
       "    .dataframe tbody tr th {\n",
       "        vertical-align: top;\n",
       "    }\n",
       "\n",
       "    .dataframe thead th {\n",
       "        text-align: right;\n",
       "    }\n",
       "</style>\n",
       "<table border=\"1\" class=\"dataframe\">\n",
       "  <thead>\n",
       "    <tr style=\"text-align: right;\">\n",
       "      <th></th>\n",
       "      <th>price</th>\n",
       "      <th>bed</th>\n",
       "      <th>bath</th>\n",
       "      <th>carport</th>\n",
       "      <th>surface_area</th>\n",
       "      <th>building_area</th>\n",
       "    </tr>\n",
       "  </thead>\n",
       "  <tbody>\n",
       "    <tr>\n",
       "      <th>min</th>\n",
       "      <td>1.550000e+08</td>\n",
       "      <td>2.000000</td>\n",
       "      <td>1.000000</td>\n",
       "      <td>1.00000</td>\n",
       "      <td>36.000000</td>\n",
       "      <td>4.000000</td>\n",
       "    </tr>\n",
       "    <tr>\n",
       "      <th>max</th>\n",
       "      <td>3.370000e+09</td>\n",
       "      <td>5.000000</td>\n",
       "      <td>6.000000</td>\n",
       "      <td>4.00000</td>\n",
       "      <td>209.000000</td>\n",
       "      <td>235.000000</td>\n",
       "    </tr>\n",
       "    <tr>\n",
       "      <th>mean</th>\n",
       "      <td>1.147210e+09</td>\n",
       "      <td>2.967593</td>\n",
       "      <td>2.100309</td>\n",
       "      <td>1.28858</td>\n",
       "      <td>119.564815</td>\n",
       "      <td>96.492284</td>\n",
       "    </tr>\n",
       "  </tbody>\n",
       "</table>\n",
       "</div>"
      ],
      "text/plain": [
       "             price       bed      bath  carport  surface_area  building_area\n",
       "min   1.550000e+08  2.000000  1.000000  1.00000     36.000000       4.000000\n",
       "max   3.370000e+09  5.000000  6.000000  4.00000    209.000000     235.000000\n",
       "mean  1.147210e+09  2.967593  2.100309  1.28858    119.564815      96.492284"
      ]
     },
     "execution_count": 20,
     "metadata": {},
     "output_type": "execute_result"
    }
   ],
   "source": [
    "df.drop(columns='listing-location').agg(['min', 'max', 'mean'])"
   ]
  },
  {
   "cell_type": "code",
   "execution_count": 21,
   "id": "1e7d069e",
   "metadata": {},
   "outputs": [
    {
     "data": {
      "text/html": [
       "<div>\n",
       "<style scoped>\n",
       "    .dataframe tbody tr th:only-of-type {\n",
       "        vertical-align: middle;\n",
       "    }\n",
       "\n",
       "    .dataframe tbody tr th {\n",
       "        vertical-align: top;\n",
       "    }\n",
       "\n",
       "    .dataframe thead th {\n",
       "        text-align: right;\n",
       "    }\n",
       "</style>\n",
       "<table border=\"1\" class=\"dataframe\">\n",
       "  <thead>\n",
       "    <tr style=\"text-align: right;\">\n",
       "      <th></th>\n",
       "      <th>price</th>\n",
       "      <th>listing-location</th>\n",
       "      <th>bed</th>\n",
       "      <th>bath</th>\n",
       "      <th>carport</th>\n",
       "      <th>surface_area</th>\n",
       "      <th>building_area</th>\n",
       "    </tr>\n",
       "  </thead>\n",
       "  <tbody>\n",
       "    <tr>\n",
       "      <th>0</th>\n",
       "      <td>1790000000</td>\n",
       "      <td>Ngaglik</td>\n",
       "      <td>3.0</td>\n",
       "      <td>3.0</td>\n",
       "      <td>2.0</td>\n",
       "      <td>120.0</td>\n",
       "      <td>110.0</td>\n",
       "    </tr>\n",
       "    <tr>\n",
       "      <th>1</th>\n",
       "      <td>170000000</td>\n",
       "      <td>Jombor</td>\n",
       "      <td>3.0</td>\n",
       "      <td>2.0</td>\n",
       "      <td>1.0</td>\n",
       "      <td>102.0</td>\n",
       "      <td>126.0</td>\n",
       "    </tr>\n",
       "    <tr>\n",
       "      <th>2</th>\n",
       "      <td>695000000</td>\n",
       "      <td>Berbah</td>\n",
       "      <td>2.0</td>\n",
       "      <td>2.0</td>\n",
       "      <td>1.0</td>\n",
       "      <td>100.0</td>\n",
       "      <td>100.0</td>\n",
       "    </tr>\n",
       "    <tr>\n",
       "      <th>3</th>\n",
       "      <td>560000000</td>\n",
       "      <td>Prambanan</td>\n",
       "      <td>3.0</td>\n",
       "      <td>1.0</td>\n",
       "      <td>1.0</td>\n",
       "      <td>109.0</td>\n",
       "      <td>67.0</td>\n",
       "    </tr>\n",
       "    <tr>\n",
       "      <th>4</th>\n",
       "      <td>200000000</td>\n",
       "      <td>Moyudan</td>\n",
       "      <td>2.0</td>\n",
       "      <td>1.0</td>\n",
       "      <td>1.0</td>\n",
       "      <td>60.0</td>\n",
       "      <td>30.0</td>\n",
       "    </tr>\n",
       "  </tbody>\n",
       "</table>\n",
       "</div>"
      ],
      "text/plain": [
       "        price listing-location  bed  bath  carport  surface_area  \\\n",
       "0  1790000000          Ngaglik  3.0   3.0      2.0         120.0   \n",
       "1   170000000           Jombor  3.0   2.0      1.0         102.0   \n",
       "2   695000000           Berbah  2.0   2.0      1.0         100.0   \n",
       "3   560000000        Prambanan  3.0   1.0      1.0         109.0   \n",
       "4   200000000          Moyudan  2.0   1.0      1.0          60.0   \n",
       "\n",
       "   building_area  \n",
       "0          110.0  \n",
       "1          126.0  \n",
       "2          100.0  \n",
       "3           67.0  \n",
       "4           30.0  "
      ]
     },
     "execution_count": 21,
     "metadata": {},
     "output_type": "execute_result"
    }
   ],
   "source": [
    "df.head()"
   ]
  },
  {
   "cell_type": "markdown",
   "id": "d8ff2672",
   "metadata": {},
   "source": [
    "Data sudah bersih sesuai yang kita inginkan, lalu akan kita save"
   ]
  },
  {
   "cell_type": "code",
   "execution_count": 22,
   "id": "30cae716",
   "metadata": {},
   "outputs": [],
   "source": [
    "df.to_csv('data/cleaned_yogya_hp.csv', index=False)\n"
   ]
  },
  {
   "cell_type": "markdown",
   "id": "656e39f9",
   "metadata": {},
   "source": []
  }
 ],
 "metadata": {
  "kernelspec": {
   "display_name": "house_pricing",
   "language": "python",
   "name": "python3"
  },
  "language_info": {
   "codemirror_mode": {
    "name": "ipython",
    "version": 3
   },
   "file_extension": ".py",
   "mimetype": "text/x-python",
   "name": "python",
   "nbconvert_exporter": "python",
   "pygments_lexer": "ipython3",
   "version": "3.13.3"
  }
 },
 "nbformat": 4,
 "nbformat_minor": 5
}
